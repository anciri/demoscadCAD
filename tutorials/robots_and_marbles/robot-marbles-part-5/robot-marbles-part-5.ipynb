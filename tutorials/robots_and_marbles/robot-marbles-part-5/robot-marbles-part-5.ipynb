{
 "cells": [
  {
   "cell_type": "markdown",
   "metadata": {
    "pycharm": {
     "name": "#%% md\n"
    }
   },
   "source": [
    "[![Open In Colab](https://colab.research.google.com/assets/colab-badge.svg)](https://colab.research.google.com/github/cadCAD-org/demos/blob/master/tutorials/robots_and_marbles/robot-marbles-part-5/robot-marbles-part-5.ipynb)\n",
    "\n",
    "# cadCAD Tutorials: The Robot and the Marbles Part 5 - Networks\n",
    "\n",
    "To expand upon our previous examples, we will introduce the concept of using a graph network object that is updated during each state update. The ability to essential embed a graph 'database' into a state is a game changer for scalability, allowing increased complexity with multiple agents or components is represented, easily updated. Below, building upon our previous examples, we will represent the Robots and Marbles example with n boxes, and a variable number of marbles. \n",
    "\n",
    "## Behavior and Mechanisms:\n",
    "* A network of robotic arms is capable of taking a marble from one of their boxes and dropping it into the other one. \n",
    "* Each robotic arm in the network only controls two boxes and they act by moving a marble from one box to the other.\n",
    "* Each robotic arm is programmed to take one marble at a time from the box containing the most significant number of marbles and drop it in the other box. It repeats that process until the boxes contain an equal number of marbles.\n",
    "* For our analysis of this system, suppose we are only interested in monitoring the number of marbles in their two boxes."
   ]
  },
  {
   "cell_type": "code",
   "execution_count": 1,
   "metadata": {
    "pycharm": {
     "name": "#%%\n"
    }
   },
   "outputs": [
    {
     "name": "stdout",
     "output_type": "stream",
     "text": [
      "Requirement already satisfied: cadcad in /Users/andrewclark/anaconda3/lib/python3.11/site-packages (0.5.1)\n",
      "Requirement already satisfied: matplotlib in /Users/andrewclark/anaconda3/lib/python3.11/site-packages (3.7.2)\n",
      "Requirement already satisfied: pandas in /Users/andrewclark/anaconda3/lib/python3.11/site-packages (2.0.3)\n",
      "Requirement already satisfied: numpy in /Users/andrewclark/anaconda3/lib/python3.11/site-packages (1.24.3)\n",
      "Requirement already satisfied: networkx in /Users/andrewclark/anaconda3/lib/python3.11/site-packages (3.1)\n",
      "Requirement already satisfied: scipy in /Users/andrewclark/anaconda3/lib/python3.11/site-packages (1.11.1)\n",
      "Requirement already satisfied: seaborn in /Users/andrewclark/anaconda3/lib/python3.11/site-packages (0.12.2)\n",
      "Requirement already satisfied: funcy in /Users/andrewclark/anaconda3/lib/python3.11/site-packages (from cadcad) (2.0)\n",
      "Requirement already satisfied: dill in /Users/andrewclark/anaconda3/lib/python3.11/site-packages (from cadcad) (0.3.8)\n",
      "Requirement already satisfied: pathos in /Users/andrewclark/anaconda3/lib/python3.11/site-packages (from cadcad) (0.3.2)\n",
      "Requirement already satisfied: pytz in /Users/andrewclark/anaconda3/lib/python3.11/site-packages (from cadcad) (2023.3.post1)\n",
      "Requirement already satisfied: six in /Users/andrewclark/anaconda3/lib/python3.11/site-packages (from cadcad) (1.16.0)\n",
      "Requirement already satisfied: contourpy>=1.0.1 in /Users/andrewclark/anaconda3/lib/python3.11/site-packages (from matplotlib) (1.0.5)\n",
      "Requirement already satisfied: cycler>=0.10 in /Users/andrewclark/anaconda3/lib/python3.11/site-packages (from matplotlib) (0.11.0)\n",
      "Requirement already satisfied: fonttools>=4.22.0 in /Users/andrewclark/anaconda3/lib/python3.11/site-packages (from matplotlib) (4.25.0)\n",
      "Requirement already satisfied: kiwisolver>=1.0.1 in /Users/andrewclark/anaconda3/lib/python3.11/site-packages (from matplotlib) (1.4.4)\n",
      "Requirement already satisfied: packaging>=20.0 in /Users/andrewclark/anaconda3/lib/python3.11/site-packages (from matplotlib) (23.1)\n",
      "Requirement already satisfied: pillow>=6.2.0 in /Users/andrewclark/anaconda3/lib/python3.11/site-packages (from matplotlib) (10.0.1)\n",
      "Requirement already satisfied: pyparsing<3.1,>=2.3.1 in /Users/andrewclark/anaconda3/lib/python3.11/site-packages (from matplotlib) (3.0.9)\n",
      "Requirement already satisfied: python-dateutil>=2.7 in /Users/andrewclark/anaconda3/lib/python3.11/site-packages (from matplotlib) (2.8.2)\n",
      "Requirement already satisfied: tzdata>=2022.1 in /Users/andrewclark/anaconda3/lib/python3.11/site-packages (from pandas) (2023.3)\n",
      "Requirement already satisfied: ppft>=1.7.6.8 in /Users/andrewclark/anaconda3/lib/python3.11/site-packages (from pathos->cadcad) (1.7.6.8)\n",
      "Requirement already satisfied: pox>=0.3.4 in /Users/andrewclark/anaconda3/lib/python3.11/site-packages (from pathos->cadcad) (0.3.4)\n",
      "Requirement already satisfied: multiprocess>=0.70.16 in /Users/andrewclark/anaconda3/lib/python3.11/site-packages (from pathos->cadcad) (0.70.16)\n"
     ]
    }
   ],
   "source": [
    "#%%capture\n",
    "# Only run this cell if you need to install the libraries\n",
    "# If running in google colab, this is needed.\n",
    "\n",
    "!pip install cadcad matplotlib pandas numpy networkx scipy seaborn"
   ]
  },
  {
   "cell_type": "code",
   "execution_count": 2,
   "metadata": {
    "pycharm": {
     "name": "#%%\n"
    }
   },
   "outputs": [],
   "source": [
    "# Import dependancies\n",
    "\n",
    "# Data processing and plotting libraries\n",
    "import pandas as pd\n",
    "import numpy as np\n",
    "from random import normalvariate\n",
    "import matplotlib.pyplot as plt\n",
    "import networkx as nx\n",
    "\n",
    "# cadCAD specific libraries\n",
    "from cadCAD.configuration.utils import config_sim\n",
    "from cadCAD.configuration import Experiment\n",
    "from cadCAD.engine import ExecutionContext, Executor\n",
    "from cadCAD import configs"
   ]
  },
  {
   "cell_type": "code",
   "execution_count": 3,
   "metadata": {
    "pycharm": {
     "name": "#%%\n"
    }
   },
   "outputs": [],
   "source": [
    "# define global variables\n",
    "BOXES=5 #number of boxes in our network\n",
    "m= 2 #for barabasi graph type number of edges is (n-2)*m"
   ]
  },
  {
   "cell_type": "markdown",
   "metadata": {
    "pycharm": {
     "name": "#%% md\n"
    }
   },
   "source": [
    "We create a [Barabási–Albert](https://en.wikipedia.org/wiki/Barab%C3%A1si%E2%80%93Albert_model) graph and then fill the 5 boxes with between 1 and 10 balls. You can create as many different nodes or types of nodes as needed"
   ]
  },
  {
   "cell_type": "code",
   "execution_count": 4,
   "metadata": {
    "pycharm": {
     "name": "#%%\n"
    }
   },
   "outputs": [],
   "source": [
    "# create graph object with the number of boxes as nodes\n",
    "network = nx.barabasi_albert_graph(BOXES, m)\n",
    "\n",
    "# add balls to box nodes\n",
    "for node in network.nodes:\n",
    "    network.nodes[node]['balls'] = np.random.randint(1,10)"
   ]
  },
  {
   "cell_type": "markdown",
   "metadata": {
    "pycharm": {
     "name": "#%% md\n"
    }
   },
   "source": [
    "Now we will plot the network of boxes and with their labels showing how many balls are in each box."
   ]
  },
  {
   "cell_type": "code",
   "execution_count": 5,
   "metadata": {
    "pycharm": {
     "name": "#%%\n"
    }
   },
   "outputs": [
    {
     "data": {
      "image/png": "[encoded data removed]",
      "text/plain": [
       "<Figure size 640x480 with 1 Axes>"
      ]
     },
     "metadata": {},
     "output_type": "display_data"
    }
   ],
   "source": [
    "# plot of boxes and balls\n",
    "nx.draw_kamada_kawai(network,labels=nx.get_node_attributes(network,'balls'))"
   ]
  },
  {
   "cell_type": "code",
   "execution_count": 6,
   "metadata": {
    "pycharm": {
     "name": "#%%\n"
    }
   },
   "outputs": [],
   "source": [
    "# we initialize the cadCAD state as a network object\n",
    "initial_state = {'network':network}"
   ]
  },
  {
   "cell_type": "markdown",
   "metadata": {
    "pycharm": {
     "name": "#%% md\n"
    }
   },
   "source": [
    "Behavior: node by edge dimensional operator: input the states of the boxes, output the deltas along the edges\n",
    "\n",
    "Find the difference that each robot sees between their two boxes, ie, find which of the two nodes connected to an edge has the greater value for each edge that exists.\n",
    "\n",
    "We specify the robotic networks logic in a Policy/Behavior function. Unlike previous examples, our policy controls a vector valued action, defined over the edges of our network"
   ]
  },
  {
   "cell_type": "code",
   "execution_count": 7,
   "metadata": {
    "pycharm": {
     "name": "#%%\n"
    }
   },
   "outputs": [],
   "source": [
    "def p_robotic_network(params, substep, state_history, previous_state):\n",
    "    network = previous_state['network']\n",
    "    delta_balls = {}\n",
    "    for e in network.edges:\n",
    "        src = e[0]\n",
    "        dst = e[1]\n",
    "        #transfer one ball across the edge in the direction of more balls to less\n",
    "        delta_balls[e] = np.sign(network.nodes[src]['balls']-network.nodes[dst]['balls'])\n",
    "    return({'delta': delta_balls})"
   ]
  },
  {
   "cell_type": "markdown",
   "metadata": {
    "pycharm": {
     "name": "#%% md\n"
    }
   },
   "source": [
    "Mechanism: edge by node dimensional operator : input the deltas along the edges and update the boxes\n",
    "\n",
    "We make the state update functions less \"intelligent\", ie. they simply add the number of marbles specified in `policy_input` (which, per the policy function definition, may be negative)\n"
   ]
  },
  {
   "cell_type": "code",
   "execution_count": 8,
   "metadata": {
    "pycharm": {
     "name": "#%%\n"
    }
   },
   "outputs": [],
   "source": [
    "def s_update_network(params, substep, state_history,  previous_state, policy_input):\n",
    "    network = previous_state['network'] \n",
    "    delta_balls = policy_input['delta']\n",
    "    for e in network.edges:\n",
    "        move_ball = delta_balls[e]\n",
    "        src = e[0]\n",
    "        dst = e[1]\n",
    "        if (network.nodes[src]['balls'] >= move_ball) and (network.nodes[dst]['balls'] >= -move_ball):\n",
    "            network.nodes[src]['balls'] = network.nodes[src]['balls']-move_ball\n",
    "            network.nodes[dst]['balls'] = network.nodes[dst]['balls']+move_ball\n",
    "            \n",
    "    return ('network', network)"
   ]
  },
  {
   "cell_type": "code",
   "execution_count": 9,
   "metadata": {
    "pycharm": {
     "name": "#%%\n"
    }
   },
   "outputs": [],
   "source": [
    "# wire up the mechanisms and states\n",
    "partial_state_update_blocks = [\n",
    "    { \n",
    "        'policies': { # The following policy functions will be evaluated and their returns will be passed to the state update functions\n",
    "            'action': p_robotic_network\n",
    "        },\n",
    "        'variables': { # The following state variables will be updated simultaneously\n",
    "            'network': s_update_network\n",
    "            \n",
    "        }\n",
    "    }\n",
    "]"
   ]
  },
  {
   "cell_type": "markdown",
   "metadata": {
    "pycharm": {
     "name": "#%% md\n"
    }
   },
   "source": [
    "Settings of general simulation parameters, unrelated to the system itself\n",
    "* `N` is the number of times the simulation will be run (Monte Carlo runs)\n",
    "* `T` is a range with the number of discrete units of time the simulation will run for"
   ]
  },
  {
   "cell_type": "code",
   "execution_count": 10,
   "metadata": {
    "pycharm": {
     "name": "#%%\n"
    }
   },
   "outputs": [],
   "source": [
    "MONTE_CARLO_RUNS = 1\n",
    "SIMULATION_TIMESTEPS = 25 # Timesteps / iterations of the simulation\n",
    "\n",
    "sim_config = config_sim(\n",
    "    {\n",
    "        'N': MONTE_CARLO_RUNS,\n",
    "        'T': range(SIMULATION_TIMESTEPS),\n",
    "        #'M': {} # This will be explained in later tutorials\n",
    "    }\n",
    ")"
   ]
  },
  {
   "cell_type": "code",
   "execution_count": 11,
   "metadata": {
    "pycharm": {
     "name": "#%%\n"
    },
    "tags": []
   },
   "outputs": [
    {
     "name": "stdout",
     "output_type": "stream",
     "text": [
      "\n",
      "                  ___________    ____\n",
      "  ________ __ ___/ / ____/   |  / __ \\\n",
      " / ___/ __` / __  / /   / /| | / / / /\n",
      "/ /__/ /_/ / /_/ / /___/ ___ |/ /_/ /\n",
      "\\___/\\__,_/\\__,_/\\____/_/  |_/_____/\n",
      "by cadCAD\n",
      "\n",
      "cadCAD Version: 0.5.1\n",
      "Execution Mode: local_proc\n",
      "Simulation Dimensions:\n",
      "Entire Simulation: (Models, Unique Timesteps, Params, Total Runs, Sub-States) = (1, 25, 0, 1, 1)\n",
      "     Simulation 0: (Timesteps, Params, Runs, Sub-States) = (25, 0, 1, 1)\n"
     ]
    },
    {
     "data": {
      "application/vnd.jupyter.widget-view+json": {
       "model_id": "c7896d7e5c194f7bb97b42d552d16e5e",
       "version_major": 2,
       "version_minor": 0
      },
      "text/plain": [
       "Initializing configurations:   0%|          | 0/1 [00:00<?, ?it/s]"
      ]
     },
     "metadata": {},
     "output_type": "display_data"
    },
    {
     "name": "stdout",
     "output_type": "stream",
     "text": [
      "Execution Method: single_proc_exec\n",
      "Execution Mode: single_threaded\n"
     ]
    },
    {
     "data": {
      "application/vnd.jupyter.widget-view+json": {
       "model_id": "edb71ba190744dac843d441d6f58fb01",
       "version_major": 2,
       "version_minor": 0
      },
      "text/plain": [
       "Flattening results:   0%|          | 0/26 [00:00<?, ?it/s]"
      ]
     },
     "metadata": {},
     "output_type": "display_data"
    },
    {
     "name": "stdout",
     "output_type": "stream",
     "text": [
      "Total execution time: 0.02s\n"
     ]
    }
   ],
   "source": [
    "del configs[:]\n",
    "\n",
    "experiment = Experiment()\n",
    "\n",
    "experiment.append_configs(\n",
    "    sim_configs=sim_config,\n",
    "    initial_state=initial_state,\n",
    "    partial_state_update_blocks=partial_state_update_blocks,\n",
    ")\n",
    "\n",
    "\n",
    "exec_context = ExecutionContext()\n",
    "run = Executor(exec_context=exec_context, configs=experiment.configs)\n",
    "\n",
    "(system_events, tensor_field, sessions) = run.execute()\n",
    "df = pd.DataFrame(system_events)"
   ]
  },
  {
   "cell_type": "markdown",
   "metadata": {
    "pycharm": {
     "name": "#%% md\n"
    }
   },
   "source": [
    "We create a helper functions to extract the networkx graph object from the Pandas dataframe and plot it."
   ]
  },
  {
   "cell_type": "code",
   "execution_count": 12,
   "metadata": {
    "pycharm": {
     "name": "#%%\n"
    }
   },
   "outputs": [],
   "source": [
    "#NetworkX helper function\n",
    "def get_nodes(g):\n",
    "    return [node for node in g.nodes if g.nodes[node]]"
   ]
  },
  {
   "cell_type": "markdown",
   "metadata": {
    "pycharm": {
     "name": "#%% md\n"
    }
   },
   "source": [
    "Using our helper function get_nodes() we pull out the boxes ball quantity and save it to a new dataframe column."
   ]
  },
  {
   "cell_type": "code",
   "execution_count": 13,
   "metadata": {
    "pycharm": {
     "name": "#%%\n"
    }
   },
   "outputs": [],
   "source": [
    "df['Balls'] = df.network.apply(lambda g: np.array([g.nodes[j]['balls'] for j in get_nodes(g)]))"
   ]
  },
  {
   "cell_type": "code",
   "execution_count": 14,
   "metadata": {
    "pycharm": {
     "name": "#%%\n"
    }
   },
   "outputs": [],
   "source": [
    "data = np.stack(df['Balls'].values)\n",
    "balls_df=pd.DataFrame(data)"
   ]
  },
  {
   "cell_type": "markdown",
   "metadata": {
    "pycharm": {
     "name": "#%% md\n"
    }
   },
   "source": [
    "Next we will plot the number of balls in each box over the simulation time period. We can see an oscillation occurs never reaching an equilibrium due to the uneven nature of the boxes and balls."
   ]
  },
  {
   "cell_type": "code",
   "execution_count": 15,
   "metadata": {
    "pycharm": {
     "name": "#%%\n"
    }
   },
   "outputs": [
    {
     "data": {
      "image/png": "[encoded data removed]",
      "text/plain": [
       "<Figure size 1200x800 with 1 Axes>"
      ]
     },
     "metadata": {},
     "output_type": "display_data"
    }
   ],
   "source": [
    "ax = balls_df.plot( marker='o', markersize=10, markeredgewidth=2, alpha=0.9, markerfacecolor='black',\n",
    "                linewidth=3, figsize=(12,8),  title=\"Marbles in each box as a function of time\", \n",
    "                ylabel='Number of Marbles', grid=True, fillstyle='none',  \n",
    "                xticks=list(range(SIMULATION_TIMESTEPS)),\n",
    "                yticks=list(range(10)))\n",
    "ax.legend( title='Box #');\n"
   ]
  },
  {
   "cell_type": "code",
   "execution_count": 16,
   "metadata": {
    "pycharm": {
     "name": "#%%\n"
    }
   },
   "outputs": [
    {
     "data": {
      "text/html": [
       "<style type=\"text/css\">\n",
       "#T_b5937_row0_col0 {\n",
       "  background-color: #fde725;\n",
       "  color: #000000;\n",
       "  font-size: 20px;\n",
       "}\n",
       "#T_b5937_row0_col1, #T_b5937_row0_col2, #T_b5937_row0_col3, #T_b5937_row0_col4, #T_b5937_row0_col5, #T_b5937_row0_col6, #T_b5937_row0_col7, #T_b5937_row0_col8, #T_b5937_row0_col9, #T_b5937_row0_col10, #T_b5937_row0_col11, #T_b5937_row0_col12, #T_b5937_row0_col13, #T_b5937_row0_col14, #T_b5937_row0_col15, #T_b5937_row0_col16, #T_b5937_row0_col17, #T_b5937_row0_col18, #T_b5937_row0_col19, #T_b5937_row0_col20, #T_b5937_row0_col21, #T_b5937_row0_col22, #T_b5937_row0_col23, #T_b5937_row0_col24, #T_b5937_row0_col25, #T_b5937_row1_col1, #T_b5937_row1_col2, #T_b5937_row1_col3, #T_b5937_row1_col4, #T_b5937_row1_col5, #T_b5937_row1_col6, #T_b5937_row1_col7, #T_b5937_row1_col8, #T_b5937_row1_col9, #T_b5937_row1_col10, #T_b5937_row1_col11, #T_b5937_row1_col12, #T_b5937_row1_col13, #T_b5937_row1_col14, #T_b5937_row1_col15, #T_b5937_row1_col16, #T_b5937_row1_col17, #T_b5937_row1_col18, #T_b5937_row1_col19, #T_b5937_row1_col20, #T_b5937_row1_col21, #T_b5937_row1_col22, #T_b5937_row1_col23, #T_b5937_row1_col24, #T_b5937_row1_col25, #T_b5937_row2_col1, #T_b5937_row2_col2, #T_b5937_row2_col3, #T_b5937_row2_col4, #T_b5937_row2_col5, #T_b5937_row2_col6, #T_b5937_row2_col7, #T_b5937_row2_col8, #T_b5937_row2_col9, #T_b5937_row2_col10, #T_b5937_row2_col11, #T_b5937_row2_col12, #T_b5937_row2_col13, #T_b5937_row2_col14, #T_b5937_row2_col15, #T_b5937_row2_col16, #T_b5937_row2_col17, #T_b5937_row2_col18, #T_b5937_row2_col19, #T_b5937_row2_col20, #T_b5937_row2_col21, #T_b5937_row2_col22, #T_b5937_row2_col23, #T_b5937_row2_col24, #T_b5937_row2_col25, #T_b5937_row3_col0, #T_b5937_row3_col1, #T_b5937_row3_col2, #T_b5937_row3_col3, #T_b5937_row3_col4, #T_b5937_row3_col5, #T_b5937_row3_col6, #T_b5937_row3_col7, #T_b5937_row3_col8, #T_b5937_row3_col9, #T_b5937_row3_col10, #T_b5937_row3_col11, #T_b5937_row3_col12, #T_b5937_row3_col13, #T_b5937_row3_col14, #T_b5937_row3_col15, #T_b5937_row3_col16, #T_b5937_row3_col17, #T_b5937_row3_col18, #T_b5937_row3_col19, #T_b5937_row3_col20, #T_b5937_row3_col21, #T_b5937_row3_col22, #T_b5937_row3_col23, #T_b5937_row3_col24, #T_b5937_row3_col25, #T_b5937_row4_col1, #T_b5937_row4_col2, #T_b5937_row4_col3, #T_b5937_row4_col4, #T_b5937_row4_col5, #T_b5937_row4_col6, #T_b5937_row4_col7, #T_b5937_row4_col8, #T_b5937_row4_col9, #T_b5937_row4_col10, #T_b5937_row4_col11, #T_b5937_row4_col12, #T_b5937_row4_col13, #T_b5937_row4_col14, #T_b5937_row4_col15, #T_b5937_row4_col16, #T_b5937_row4_col17, #T_b5937_row4_col18, #T_b5937_row4_col19, #T_b5937_row4_col20, #T_b5937_row4_col21, #T_b5937_row4_col22, #T_b5937_row4_col23, #T_b5937_row4_col24, #T_b5937_row4_col25 {\n",
       "  background-color: #440154;\n",
       "  color: #f1f1f1;\n",
       "  font-size: 20px;\n",
       "}\n",
       "#T_b5937_row1_col0 {\n",
       "  background-color: #7ad151;\n",
       "  color: #000000;\n",
       "  font-size: 20px;\n",
       "}\n",
       "#T_b5937_row2_col0, #T_b5937_row4_col0 {\n",
       "  background-color: #22a884;\n",
       "  color: #f1f1f1;\n",
       "  font-size: 20px;\n",
       "}\n",
       "</style>\n",
       "<table id=\"T_b5937\">\n",
       "  <thead>\n",
       "    <tr>\n",
       "      <th class=\"blank level0\" >&nbsp;</th>\n",
       "      <th id=\"T_b5937_level0_col0\" class=\"col_heading level0 col0\" >0</th>\n",
       "      <th id=\"T_b5937_level0_col1\" class=\"col_heading level0 col1\" >1</th>\n",
       "      <th id=\"T_b5937_level0_col2\" class=\"col_heading level0 col2\" >2</th>\n",
       "      <th id=\"T_b5937_level0_col3\" class=\"col_heading level0 col3\" >3</th>\n",
       "      <th id=\"T_b5937_level0_col4\" class=\"col_heading level0 col4\" >4</th>\n",
       "      <th id=\"T_b5937_level0_col5\" class=\"col_heading level0 col5\" >5</th>\n",
       "      <th id=\"T_b5937_level0_col6\" class=\"col_heading level0 col6\" >6</th>\n",
       "      <th id=\"T_b5937_level0_col7\" class=\"col_heading level0 col7\" >7</th>\n",
       "      <th id=\"T_b5937_level0_col8\" class=\"col_heading level0 col8\" >8</th>\n",
       "      <th id=\"T_b5937_level0_col9\" class=\"col_heading level0 col9\" >9</th>\n",
       "      <th id=\"T_b5937_level0_col10\" class=\"col_heading level0 col10\" >10</th>\n",
       "      <th id=\"T_b5937_level0_col11\" class=\"col_heading level0 col11\" >11</th>\n",
       "      <th id=\"T_b5937_level0_col12\" class=\"col_heading level0 col12\" >12</th>\n",
       "      <th id=\"T_b5937_level0_col13\" class=\"col_heading level0 col13\" >13</th>\n",
       "      <th id=\"T_b5937_level0_col14\" class=\"col_heading level0 col14\" >14</th>\n",
       "      <th id=\"T_b5937_level0_col15\" class=\"col_heading level0 col15\" >15</th>\n",
       "      <th id=\"T_b5937_level0_col16\" class=\"col_heading level0 col16\" >16</th>\n",
       "      <th id=\"T_b5937_level0_col17\" class=\"col_heading level0 col17\" >17</th>\n",
       "      <th id=\"T_b5937_level0_col18\" class=\"col_heading level0 col18\" >18</th>\n",
       "      <th id=\"T_b5937_level0_col19\" class=\"col_heading level0 col19\" >19</th>\n",
       "      <th id=\"T_b5937_level0_col20\" class=\"col_heading level0 col20\" >20</th>\n",
       "      <th id=\"T_b5937_level0_col21\" class=\"col_heading level0 col21\" >21</th>\n",
       "      <th id=\"T_b5937_level0_col22\" class=\"col_heading level0 col22\" >22</th>\n",
       "      <th id=\"T_b5937_level0_col23\" class=\"col_heading level0 col23\" >23</th>\n",
       "      <th id=\"T_b5937_level0_col24\" class=\"col_heading level0 col24\" >24</th>\n",
       "      <th id=\"T_b5937_level0_col25\" class=\"col_heading level0 col25\" >25</th>\n",
       "    </tr>\n",
       "  </thead>\n",
       "  <tbody>\n",
       "    <tr>\n",
       "      <th id=\"T_b5937_level0_row0\" class=\"row_heading level0 row0\" >0</th>\n",
       "      <td id=\"T_b5937_row0_col0\" class=\"data row0 col0\" >6</td>\n",
       "      <td id=\"T_b5937_row0_col1\" class=\"data row0 col1\" >4</td>\n",
       "      <td id=\"T_b5937_row0_col2\" class=\"data row0 col2\" >4</td>\n",
       "      <td id=\"T_b5937_row0_col3\" class=\"data row0 col3\" >4</td>\n",
       "      <td id=\"T_b5937_row0_col4\" class=\"data row0 col4\" >4</td>\n",
       "      <td id=\"T_b5937_row0_col5\" class=\"data row0 col5\" >4</td>\n",
       "      <td id=\"T_b5937_row0_col6\" class=\"data row0 col6\" >4</td>\n",
       "      <td id=\"T_b5937_row0_col7\" class=\"data row0 col7\" >4</td>\n",
       "      <td id=\"T_b5937_row0_col8\" class=\"data row0 col8\" >4</td>\n",
       "      <td id=\"T_b5937_row0_col9\" class=\"data row0 col9\" >4</td>\n",
       "      <td id=\"T_b5937_row0_col10\" class=\"data row0 col10\" >4</td>\n",
       "      <td id=\"T_b5937_row0_col11\" class=\"data row0 col11\" >4</td>\n",
       "      <td id=\"T_b5937_row0_col12\" class=\"data row0 col12\" >4</td>\n",
       "      <td id=\"T_b5937_row0_col13\" class=\"data row0 col13\" >4</td>\n",
       "      <td id=\"T_b5937_row0_col14\" class=\"data row0 col14\" >4</td>\n",
       "      <td id=\"T_b5937_row0_col15\" class=\"data row0 col15\" >4</td>\n",
       "      <td id=\"T_b5937_row0_col16\" class=\"data row0 col16\" >4</td>\n",
       "      <td id=\"T_b5937_row0_col17\" class=\"data row0 col17\" >4</td>\n",
       "      <td id=\"T_b5937_row0_col18\" class=\"data row0 col18\" >4</td>\n",
       "      <td id=\"T_b5937_row0_col19\" class=\"data row0 col19\" >4</td>\n",
       "      <td id=\"T_b5937_row0_col20\" class=\"data row0 col20\" >4</td>\n",
       "      <td id=\"T_b5937_row0_col21\" class=\"data row0 col21\" >4</td>\n",
       "      <td id=\"T_b5937_row0_col22\" class=\"data row0 col22\" >4</td>\n",
       "      <td id=\"T_b5937_row0_col23\" class=\"data row0 col23\" >4</td>\n",
       "      <td id=\"T_b5937_row0_col24\" class=\"data row0 col24\" >4</td>\n",
       "      <td id=\"T_b5937_row0_col25\" class=\"data row0 col25\" >4</td>\n",
       "    </tr>\n",
       "    <tr>\n",
       "      <th id=\"T_b5937_level0_row1\" class=\"row_heading level0 row1\" >1</th>\n",
       "      <td id=\"T_b5937_row1_col0\" class=\"data row1 col0\" >5</td>\n",
       "      <td id=\"T_b5937_row1_col1\" class=\"data row1 col1\" >4</td>\n",
       "      <td id=\"T_b5937_row1_col2\" class=\"data row1 col2\" >4</td>\n",
       "      <td id=\"T_b5937_row1_col3\" class=\"data row1 col3\" >4</td>\n",
       "      <td id=\"T_b5937_row1_col4\" class=\"data row1 col4\" >4</td>\n",
       "      <td id=\"T_b5937_row1_col5\" class=\"data row1 col5\" >4</td>\n",
       "      <td id=\"T_b5937_row1_col6\" class=\"data row1 col6\" >4</td>\n",
       "      <td id=\"T_b5937_row1_col7\" class=\"data row1 col7\" >4</td>\n",
       "      <td id=\"T_b5937_row1_col8\" class=\"data row1 col8\" >4</td>\n",
       "      <td id=\"T_b5937_row1_col9\" class=\"data row1 col9\" >4</td>\n",
       "      <td id=\"T_b5937_row1_col10\" class=\"data row1 col10\" >4</td>\n",
       "      <td id=\"T_b5937_row1_col11\" class=\"data row1 col11\" >4</td>\n",
       "      <td id=\"T_b5937_row1_col12\" class=\"data row1 col12\" >4</td>\n",
       "      <td id=\"T_b5937_row1_col13\" class=\"data row1 col13\" >4</td>\n",
       "      <td id=\"T_b5937_row1_col14\" class=\"data row1 col14\" >4</td>\n",
       "      <td id=\"T_b5937_row1_col15\" class=\"data row1 col15\" >4</td>\n",
       "      <td id=\"T_b5937_row1_col16\" class=\"data row1 col16\" >4</td>\n",
       "      <td id=\"T_b5937_row1_col17\" class=\"data row1 col17\" >4</td>\n",
       "      <td id=\"T_b5937_row1_col18\" class=\"data row1 col18\" >4</td>\n",
       "      <td id=\"T_b5937_row1_col19\" class=\"data row1 col19\" >4</td>\n",
       "      <td id=\"T_b5937_row1_col20\" class=\"data row1 col20\" >4</td>\n",
       "      <td id=\"T_b5937_row1_col21\" class=\"data row1 col21\" >4</td>\n",
       "      <td id=\"T_b5937_row1_col22\" class=\"data row1 col22\" >4</td>\n",
       "      <td id=\"T_b5937_row1_col23\" class=\"data row1 col23\" >4</td>\n",
       "      <td id=\"T_b5937_row1_col24\" class=\"data row1 col24\" >4</td>\n",
       "      <td id=\"T_b5937_row1_col25\" class=\"data row1 col25\" >4</td>\n",
       "    </tr>\n",
       "    <tr>\n",
       "      <th id=\"T_b5937_level0_row2\" class=\"row_heading level0 row2\" >2</th>\n",
       "      <td id=\"T_b5937_row2_col0\" class=\"data row2 col0\" >4</td>\n",
       "      <td id=\"T_b5937_row2_col1\" class=\"data row2 col1\" >4</td>\n",
       "      <td id=\"T_b5937_row2_col2\" class=\"data row2 col2\" >4</td>\n",
       "      <td id=\"T_b5937_row2_col3\" class=\"data row2 col3\" >4</td>\n",
       "      <td id=\"T_b5937_row2_col4\" class=\"data row2 col4\" >4</td>\n",
       "      <td id=\"T_b5937_row2_col5\" class=\"data row2 col5\" >4</td>\n",
       "      <td id=\"T_b5937_row2_col6\" class=\"data row2 col6\" >4</td>\n",
       "      <td id=\"T_b5937_row2_col7\" class=\"data row2 col7\" >4</td>\n",
       "      <td id=\"T_b5937_row2_col8\" class=\"data row2 col8\" >4</td>\n",
       "      <td id=\"T_b5937_row2_col9\" class=\"data row2 col9\" >4</td>\n",
       "      <td id=\"T_b5937_row2_col10\" class=\"data row2 col10\" >4</td>\n",
       "      <td id=\"T_b5937_row2_col11\" class=\"data row2 col11\" >4</td>\n",
       "      <td id=\"T_b5937_row2_col12\" class=\"data row2 col12\" >4</td>\n",
       "      <td id=\"T_b5937_row2_col13\" class=\"data row2 col13\" >4</td>\n",
       "      <td id=\"T_b5937_row2_col14\" class=\"data row2 col14\" >4</td>\n",
       "      <td id=\"T_b5937_row2_col15\" class=\"data row2 col15\" >4</td>\n",
       "      <td id=\"T_b5937_row2_col16\" class=\"data row2 col16\" >4</td>\n",
       "      <td id=\"T_b5937_row2_col17\" class=\"data row2 col17\" >4</td>\n",
       "      <td id=\"T_b5937_row2_col18\" class=\"data row2 col18\" >4</td>\n",
       "      <td id=\"T_b5937_row2_col19\" class=\"data row2 col19\" >4</td>\n",
       "      <td id=\"T_b5937_row2_col20\" class=\"data row2 col20\" >4</td>\n",
       "      <td id=\"T_b5937_row2_col21\" class=\"data row2 col21\" >4</td>\n",
       "      <td id=\"T_b5937_row2_col22\" class=\"data row2 col22\" >4</td>\n",
       "      <td id=\"T_b5937_row2_col23\" class=\"data row2 col23\" >4</td>\n",
       "      <td id=\"T_b5937_row2_col24\" class=\"data row2 col24\" >4</td>\n",
       "      <td id=\"T_b5937_row2_col25\" class=\"data row2 col25\" >4</td>\n",
       "    </tr>\n",
       "    <tr>\n",
       "      <th id=\"T_b5937_level0_row3\" class=\"row_heading level0 row3\" >3</th>\n",
       "      <td id=\"T_b5937_row3_col0\" class=\"data row3 col0\" >1</td>\n",
       "      <td id=\"T_b5937_row3_col1\" class=\"data row3 col1\" >4</td>\n",
       "      <td id=\"T_b5937_row3_col2\" class=\"data row3 col2\" >4</td>\n",
       "      <td id=\"T_b5937_row3_col3\" class=\"data row3 col3\" >4</td>\n",
       "      <td id=\"T_b5937_row3_col4\" class=\"data row3 col4\" >4</td>\n",
       "      <td id=\"T_b5937_row3_col5\" class=\"data row3 col5\" >4</td>\n",
       "      <td id=\"T_b5937_row3_col6\" class=\"data row3 col6\" >4</td>\n",
       "      <td id=\"T_b5937_row3_col7\" class=\"data row3 col7\" >4</td>\n",
       "      <td id=\"T_b5937_row3_col8\" class=\"data row3 col8\" >4</td>\n",
       "      <td id=\"T_b5937_row3_col9\" class=\"data row3 col9\" >4</td>\n",
       "      <td id=\"T_b5937_row3_col10\" class=\"data row3 col10\" >4</td>\n",
       "      <td id=\"T_b5937_row3_col11\" class=\"data row3 col11\" >4</td>\n",
       "      <td id=\"T_b5937_row3_col12\" class=\"data row3 col12\" >4</td>\n",
       "      <td id=\"T_b5937_row3_col13\" class=\"data row3 col13\" >4</td>\n",
       "      <td id=\"T_b5937_row3_col14\" class=\"data row3 col14\" >4</td>\n",
       "      <td id=\"T_b5937_row3_col15\" class=\"data row3 col15\" >4</td>\n",
       "      <td id=\"T_b5937_row3_col16\" class=\"data row3 col16\" >4</td>\n",
       "      <td id=\"T_b5937_row3_col17\" class=\"data row3 col17\" >4</td>\n",
       "      <td id=\"T_b5937_row3_col18\" class=\"data row3 col18\" >4</td>\n",
       "      <td id=\"T_b5937_row3_col19\" class=\"data row3 col19\" >4</td>\n",
       "      <td id=\"T_b5937_row3_col20\" class=\"data row3 col20\" >4</td>\n",
       "      <td id=\"T_b5937_row3_col21\" class=\"data row3 col21\" >4</td>\n",
       "      <td id=\"T_b5937_row3_col22\" class=\"data row3 col22\" >4</td>\n",
       "      <td id=\"T_b5937_row3_col23\" class=\"data row3 col23\" >4</td>\n",
       "      <td id=\"T_b5937_row3_col24\" class=\"data row3 col24\" >4</td>\n",
       "      <td id=\"T_b5937_row3_col25\" class=\"data row3 col25\" >4</td>\n",
       "    </tr>\n",
       "    <tr>\n",
       "      <th id=\"T_b5937_level0_row4\" class=\"row_heading level0 row4\" >4</th>\n",
       "      <td id=\"T_b5937_row4_col0\" class=\"data row4 col0\" >4</td>\n",
       "      <td id=\"T_b5937_row4_col1\" class=\"data row4 col1\" >4</td>\n",
       "      <td id=\"T_b5937_row4_col2\" class=\"data row4 col2\" >4</td>\n",
       "      <td id=\"T_b5937_row4_col3\" class=\"data row4 col3\" >4</td>\n",
       "      <td id=\"T_b5937_row4_col4\" class=\"data row4 col4\" >4</td>\n",
       "      <td id=\"T_b5937_row4_col5\" class=\"data row4 col5\" >4</td>\n",
       "      <td id=\"T_b5937_row4_col6\" class=\"data row4 col6\" >4</td>\n",
       "      <td id=\"T_b5937_row4_col7\" class=\"data row4 col7\" >4</td>\n",
       "      <td id=\"T_b5937_row4_col8\" class=\"data row4 col8\" >4</td>\n",
       "      <td id=\"T_b5937_row4_col9\" class=\"data row4 col9\" >4</td>\n",
       "      <td id=\"T_b5937_row4_col10\" class=\"data row4 col10\" >4</td>\n",
       "      <td id=\"T_b5937_row4_col11\" class=\"data row4 col11\" >4</td>\n",
       "      <td id=\"T_b5937_row4_col12\" class=\"data row4 col12\" >4</td>\n",
       "      <td id=\"T_b5937_row4_col13\" class=\"data row4 col13\" >4</td>\n",
       "      <td id=\"T_b5937_row4_col14\" class=\"data row4 col14\" >4</td>\n",
       "      <td id=\"T_b5937_row4_col15\" class=\"data row4 col15\" >4</td>\n",
       "      <td id=\"T_b5937_row4_col16\" class=\"data row4 col16\" >4</td>\n",
       "      <td id=\"T_b5937_row4_col17\" class=\"data row4 col17\" >4</td>\n",
       "      <td id=\"T_b5937_row4_col18\" class=\"data row4 col18\" >4</td>\n",
       "      <td id=\"T_b5937_row4_col19\" class=\"data row4 col19\" >4</td>\n",
       "      <td id=\"T_b5937_row4_col20\" class=\"data row4 col20\" >4</td>\n",
       "      <td id=\"T_b5937_row4_col21\" class=\"data row4 col21\" >4</td>\n",
       "      <td id=\"T_b5937_row4_col22\" class=\"data row4 col22\" >4</td>\n",
       "      <td id=\"T_b5937_row4_col23\" class=\"data row4 col23\" >4</td>\n",
       "      <td id=\"T_b5937_row4_col24\" class=\"data row4 col24\" >4</td>\n",
       "      <td id=\"T_b5937_row4_col25\" class=\"data row4 col25\" >4</td>\n",
       "    </tr>\n",
       "  </tbody>\n",
       "</table>\n"
      ],
      "text/plain": [
       "<pandas.io.formats.style.Styler at 0x13354b7d0>"
      ]
     },
     "execution_count": 16,
     "metadata": {},
     "output_type": "execute_result"
    }
   ],
   "source": [
    "balls_df.T.style.background_gradient(cmap ='viridis').set_properties(**{'font-size': '20px'}) "
   ]
  },
  {
   "cell_type": "markdown",
   "metadata": {
    "pycharm": {
     "name": "#%% md\n"
    }
   },
   "source": [
    "In summary, we created a graph network of boxes and robotic arms to transfer balls between the boxes, striving for an unachievable equilibrium state. The ability to embed a graph, virtually a graph database, into a cadCAD state allows for tremendous scalability and flexibility as a modeling tool.  "
   ]
  }
 ],
 "metadata": {
  "kernelspec": {
   "display_name": "Python 3 (ipykernel)",
   "language": "python",
   "name": "python3"
  },
  "language_info": {
   "codemirror_mode": {
    "name": "ipython",
    "version": 3
   },
   "file_extension": ".py",
   "mimetype": "text/x-python",
   "name": "python",
   "nbconvert_exporter": "python",
   "pygments_lexer": "ipython3",
   "version": "3.11.5"
  }
 },
 "nbformat": 4,
 "nbformat_minor": 4
}
